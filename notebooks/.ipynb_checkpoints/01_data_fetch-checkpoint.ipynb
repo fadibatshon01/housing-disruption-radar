{
 "cells": [
  {
   "cell_type": "markdown",
   "id": "2e465fa2",
   "metadata": {},
   "source": [
    "# 📊 Housing Market Data Fetcher\n",
    "This notebook pulls real-time housing data from FRED and Yahoo Finance to analyze potential disruptions."
   ]
  },
  {
   "cell_type": "code",
   "execution_count": 6,
   "id": "eadb93a3-1a2a-42a3-b724-6754723824ca",
   "metadata": {},
   "outputs": [],
   "source": [
    "import pandas as pd\n",
    "import ssl\n",
    "import certifi\n",
    "import urllib.request\n",
    "from io import StringIO\n",
    "import matplotlib.pyplot as plt\n",
    "\n",
    "# Step 1: Set up SSL context to fix certificate issue\n",
    "context = ssl.create_default_context(cafile=certifi.where())"
   ]
  },
  {
   "cell_type": "markdown",
   "id": "fa615dc1",
   "metadata": {},
   "source": [
    "## 📈 1. Pull Housing-Related Economic Data from FRED"
   ]
  },
  {
   "cell_type": "code",
   "execution_count": 7,
   "id": "49f82315-ebcf-4d0a-95ec-4c37baf59fa8",
   "metadata": {},
   "outputs": [],
   "source": [
    "# Step 2: Fetch FRED housing starts data using urllib with SSL context\n",
    "url = \"https://fred.stlouisfed.org/graph/fredgraph.csv?id=HOUST\"\n",
    "with urllib.request.urlopen(url, context=context) as response:\n",
    "    csv_data = response.read().decode('utf-8')\n"
   ]
  },
  {
   "cell_type": "markdown",
   "id": "b58aa9cd",
   "metadata": {},
   "source": [
    "## 💼 2. Pull Real Estate Stocks from Yahoo Finance"
   ]
  },
  {
   "cell_type": "code",
   "execution_count": 8,
   "id": "0e93d96f-f1a7-435f-a320-058cf61fe270",
   "metadata": {},
   "outputs": [],
   "source": [
    "# Step 3: Load CSV into pandas\n",
    "housing_starts = pd.read_csv(StringIO(csv_data))\n",
    "housing_starts.columns = ['Date', 'Housing Starts']\n",
    "housing_starts['Date'] = pd.to_datetime(housing_starts['Date'])"
   ]
  },
  {
   "cell_type": "markdown",
   "id": "cf29f8f3",
   "metadata": {},
   "source": [
    "## 💾 3. Plot Data & Save"
   ]
  },
  {
   "cell_type": "code",
   "execution_count": 11,
   "id": "260ca891-af22-4a5e-8605-048ac77dff8f",
   "metadata": {},
   "outputs": [
    {
     "ename": "NameError",
     "evalue": "name 'base_path' is not defined",
     "output_type": "error",
     "traceback": [
      "\u001b[31m---------------------------------------------------------------------------\u001b[39m",
      "\u001b[31mNameError\u001b[39m                                 Traceback (most recent call last)",
      "\u001b[36mCell\u001b[39m\u001b[36m \u001b[39m\u001b[32mIn[11]\u001b[39m\u001b[32m, line 30\u001b[39m\n\u001b[32m     26\u001b[39m os.makedirs(save_path, exist_ok=\u001b[38;5;28;01mTrue\u001b[39;00m)\n\u001b[32m     29\u001b[39m \u001b[38;5;66;03m# Load back the freshly-saved file\u001b[39;00m\n\u001b[32m---> \u001b[39m\u001b[32m30\u001b[39m csv_path = os.path.join(\u001b[43mbase_path\u001b[49m, \u001b[33m\"\u001b[39m\u001b[33mdata\u001b[39m\u001b[33m\"\u001b[39m, \u001b[33m\"\u001b[39m\u001b[33mhousing_starts.csv\u001b[39m\u001b[33m\"\u001b[39m)\n\u001b[32m     31\u001b[39m housing_starts = pd.read_csv(csv_path, parse_dates=[\u001b[33m\"\u001b[39m\u001b[33mDate\u001b[39m\u001b[33m\"\u001b[39m])\n\u001b[32m     33\u001b[39m \u001b[38;5;66;03m# Plot\u001b[39;00m\n",
      "\u001b[31mNameError\u001b[39m: name 'base_path' is not defined"
     ]
    }
   ],
   "source": [
    "import os\n",
    "import pandas as pd\n",
    "import ssl\n",
    "import certifi\n",
    "import urllib.request\n",
    "from io import StringIO\n",
    "\n",
    "# Set up SSL context\n",
    "context = ssl.create_default_context(cafile=certifi.where())\n",
    "\n",
    "# URL for U.S. Housing Starts data from FRED\n",
    "fred_url = \"https://fred.stlouisfed.org/graph/fredgraph.csv?id=HOUST\"\n",
    "\n",
    "# Read CSV data using urllib and pandas\n",
    "with urllib.request.urlopen(fred_url, context=context) as response:\n",
    "    data = response.read().decode('utf-8')\n",
    "    housing_starts = pd.read_csv(StringIO(data))\n",
    "\n",
    "# Rename columns\n",
    "housing_starts.columns = ['Date', 'Housing Starts']\n",
    "housing_starts['Date'] = pd.to_datetime(housing_starts['Date'])\n",
    "\n",
    "# Define path to \"../data\" (outside the notebooks folder)\n",
    "save_path = os.path.abspath(os.path.join(os.getcwd(), \"../data\"))\n",
    "os.makedirs(save_path, exist_ok=True)\n",
    "\n",
    "# Save to CSV in that folder\n",
    "csv_file = os.path.join(save_path, \"housing_starts.csv\")\n",
    "housing_starts.to_csv(csv_file, index=False)\n",
    "\n",
    "# Step 4: Plot the data\n",
    "plt.figure(figsize=(6, 3))\n",
    "plt.plot(housing_starts['Date'], housing_starts['Housing Starts'], label='Housing Starts')\n",
    "plt.title(\"U.S. Housing Starts Over Time\")\n",
    "plt.xlabel(\"Date\")\n",
    "plt.ylabel(\"Housing Starts (Thousands)\")\n",
    "plt.grid(True)\n",
    "plt.legend()\n",
    "plt.tight_layout()\n",
    "plt.show()"
   ]
  },
  {
   "cell_type": "code",
   "execution_count": 10,
   "id": "530caca1-1c3c-4bf7-88a5-494f72f56c99",
   "metadata": {},
   "outputs": [
    {
     "name": "stdout",
     "output_type": "stream",
     "text": [
      "Potential Disruptions:\n",
      "          Date  Housing Starts   Change %\n",
      "9   1959-10-01            1355 -12.012987\n",
      "14  1960-03-01            1109 -26.214238\n",
      "20  1960-09-01            1097 -18.377976\n",
      "23  1960-12-01            1063 -14.686998\n",
      "27  1961-04-01            1166 -11.128049\n",
      "..         ...             ...        ...\n",
      "762 2022-07-01            1381 -10.960671\n",
      "773 2023-06-01            1421 -10.290404\n",
      "782 2024-03-01            1312 -15.463918\n",
      "792 2025-01-01            1358 -10.303831\n",
      "794 2025-03-01            1339 -10.134228\n",
      "\n",
      "[74 rows x 3 columns]\n"
     ]
    }
   ],
   "source": [
    "housing_starts['Change %'] = housing_starts['Housing Starts'].pct_change() * 100\n",
    "disruptions = housing_starts[housing_starts['Change %'] < -10]  # Threshold: 10% drop\n",
    "\n",
    "print(\"Potential Disruptions:\")\n",
    "print(disruptions[['Date', 'Housing Starts', 'Change %']])\n"
   ]
  },
  {
   "cell_type": "code",
   "execution_count": null,
   "id": "c215e939-2341-415b-b537-7a3f17b8450d",
   "metadata": {},
   "outputs": [],
   "source": [
    "\n",
    "# ↓ Append this ↓\n",
    "\n"
   ]
  }
 ],
 "metadata": {
  "kernelspec": {
   "display_name": "Python 3 (ipykernel)",
   "language": "python",
   "name": "python3"
  },
  "language_info": {
   "codemirror_mode": {
    "name": "ipython",
    "version": 3
   },
   "file_extension": ".py",
   "mimetype": "text/x-python",
   "name": "python",
   "nbconvert_exporter": "python",
   "pygments_lexer": "ipython3",
   "version": "3.13.3"
  }
 },
 "nbformat": 4,
 "nbformat_minor": 5
}
